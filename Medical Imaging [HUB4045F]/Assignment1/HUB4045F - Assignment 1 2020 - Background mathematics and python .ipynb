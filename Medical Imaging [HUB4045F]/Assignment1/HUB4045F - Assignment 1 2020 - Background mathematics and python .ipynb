{
 "cells": [
  {
   "cell_type": "markdown",
   "metadata": {
    "slideshow": {
     "slide_type": "slide"
    }
   },
   "source": [
    "<h1> HUB4045F Assignment 1: 20% of final mark </h1>\n",
    "Total marks for this assignment 80\n",
    "\n",
    "Due date: 4 March 2020 @ 23h59.\n"
   ]
  },
  {
   "cell_type": "markdown",
   "metadata": {
    "slideshow": {
     "slide_type": "slide"
    }
   },
   "source": [
    "### Instructions :\n",
    "- Solutions to be submitted as a Jupyter notebook called \"__HUB4045F - Yourname - Your student number\"__.\n",
    "- Explanations to questions should be done in formatted markdown cells. Code should be presented in code cells. \n",
    "- All required libraries for your code to run should be clearly stated at the beginning of the notebook with full instructions of how to install them.\n",
    "- All code should be well commented.\n",
    "- Part marks will be given for non running code provided that an explanation is provided for why the code is not working.\n",
    "- Add appropriate references to other peoples work or code. \n",
    "- Please use relative paths for any images, videos you embed and of course you will need to upload them with your python file when submitting. Please zip the full list of files.\n",
    "\n",
    "- NB We will submit the code for similarity tests (http://www.tareeinternet.com/scripts/comparison-tool/). As much as we encourage sharing ideas and working together its important that the final submission be individual work."
   ]
  },
  {
   "cell_type": "markdown",
   "metadata": {
    "slideshow": {
     "slide_type": "slide"
    }
   },
   "source": [
    "### Question 1: [5 marks]\n",
    "\n",
    "<center> <img src=\"./TOMO_gif_CT_Kesner.gif\",width=600,height=600> </center> \n",
    "\n",
    "Provide a brief description using mathematical notation of what is ocurring in this GIF. "
   ]
  },
  {
   "cell_type": "markdown",
   "metadata": {
    "slideshow": {
     "slide_type": "slide"
    }
   },
   "source": [
    "### _Question 2 [15 marks]_\n",
    "\n",
    "#### _Consider a ${3}$ x ${3}$ grid in which each of the nine squares is shaded either black or white_. \n",
    "Find all possible grids for which  which Rows 1 and 2 each have two white squares and Row 3 has one white square; Columns 1 and 3 each have one white square and Column 2 has three white squares. \n",
    "\n",
    "__NB You can DISPLAY your answer in code by modifying the code snippets from lecture 2 - CT mathematical models__.   "
   ]
  },
  {
   "cell_type": "markdown",
   "metadata": {
    "slideshow": {
     "slide_type": "slide"
    }
   },
   "source": [
    "### _Question 3 [15 marks]_\n",
    "\n",
    "Find values of ${t}$ and ${\\theta}$  for which the line ${l_{t,{\\theta}}}$ is the same as the line with equation ${\\sqrt{3}x+y=4}$. \n",
    "\n",
    "__(You can show step by step in the notebook or you can just read in an image of the step by step process).__"
   ]
  },
  {
   "cell_type": "markdown",
   "metadata": {
    "slideshow": {
     "slide_type": "slide"
    }
   },
   "source": [
    "### Question 4: [20 marks]\n",
    "\n",
    "#### Consider the function: \n",
    "\n",
    "#### <center>${f(x,y) := \\begin{cases} \n",
    "      1 & if \\mid x \\mid \\leq 1 \\textrm{and} \\mid y\\mid  \\leq 1,\\\\\n",
    "      0 & otherwise.\n",
    "   \\end{cases}}$ </center>\n",
    "\n",
    "#### (That is, ${f}$ has the value ${1}$ inside the square where ${-1 \\leq x \\leq 1}$ and ${-1 \\leq y \\leq 1}$, and the value ${0}$ outside this square.) \n",
    "\n",
    "a) Plot the graph of the function ${\\mathcal{R} f(t, 0)}$, the Radon transform of ${f}$ corresponding to the angle ${\\theta = 0}$. Then find a formula for ${\\mathcal{R} f(t, 0)}$ as a function of ${f}$. \n",
    "\n",
    "b) Plot  the graph of the function ${\\mathcal{R} f(t, \\pi/4)}$, the Radon transform of ${f}$ corresponding to the angle ${ \\theta = \\pi/4}$. Then find a formula for ${\\mathcal{R} f(t, \\pi/4)}$ as a function of t. \n",
    "\n",
    "c) For ${\\theta}$ with ${0 \\leq \\theta \\leq \\pi/4}$, find relationships, if any, between ${\\mathcal{R} f(t, \\theta)}$, ${\\mathcal{R} f(t, \\pi/2-\\theta)}$, ${\\mathcal{R} f(t,\\theta+\\pi/2)}$ and ${\\mathcal{R} f(t,\\pi-\\theta)}$."
   ]
  },
  {
   "cell_type": "markdown",
   "metadata": {
    "slideshow": {
     "slide_type": "slide"
    }
   },
   "source": [
    "### Question 5: [10 marks]\n",
    "Provide a proof of the central slice theorem, starting with the expression ${\\mathcal{F}(\\mathcal{R}f)(S,\\theta)}$  and ending with ${\\mathcal{F}_2 f (S \\cos (\\theta), S \\sin(\\theta))}$\n",
    "\n"
   ]
  },
  {
   "cell_type": "markdown",
   "metadata": {
    "slideshow": {
     "slide_type": "slide"
    }
   },
   "source": [
    "### Question 6: [15 marks]\n",
    "\n",
    "#### For any suitable function ${f}$ defined in the plane and all real numbers ${S}$ and ${\\theta}$, \n",
    "<br>\n",
    "\n",
    "<center> <font color='red'> ${f(x,y) = \\frac{1}{2} \\mathcal{B} \\{ \\mathcal{F}^{-1} [\\mid S \\mid \\mathcal{F}(\\mathcal{R}f)(S,\\theta)]\\}(x,y)}$ </font> </center> \n",
    "\n",
    "Show in steps a proof for the above equation "
   ]
  }
 ],
 "metadata": {
  "celltoolbar": "Slideshow",
  "kernelspec": {
   "display_name": "Python 3",
   "language": "python",
   "name": "python3"
  },
  "language_info": {
   "codemirror_mode": {
    "name": "ipython",
    "version": 3
   },
   "file_extension": ".py",
   "mimetype": "text/x-python",
   "name": "python",
   "nbconvert_exporter": "python",
   "pygments_lexer": "ipython3",
   "version": "3.7.4"
  },
  "rise": {
   "height": "90%",
   "theme": "serif",
   "transition": "cube",
   "width": "90%"
  },
  "toc": {
   "base_numbering": 1,
   "nav_menu": {},
   "number_sections": true,
   "sideBar": true,
   "skip_h1_title": false,
   "title_cell": "Table of Contents",
   "title_sidebar": "Contents",
   "toc_cell": false,
   "toc_position": {},
   "toc_section_display": true,
   "toc_window_display": false
  }
 },
 "nbformat": 4,
 "nbformat_minor": 2
}
